{
 "cells": [
  {
   "cell_type": "markdown",
   "id": "479d745a-aed6-4d7c-b844-57af8bb812e4",
   "metadata": {},
   "source": [
    "Paso UNO"
   ]
  },
  {
   "cell_type": "code",
   "execution_count": null,
   "id": "bae99bc8-ab29-4349-9190-dc21e0c565a1",
   "metadata": {},
   "outputs": [],
   "source": [
    "import pandas as pd\n",
    "import requests\n",
    "from bs4 import BeautifulSoup"
   ]
  },
  {
   "cell_type": "markdown",
   "id": "5860e0ef-2dc1-4c6f-b7c8-0ba3e7f423c0",
   "metadata": {},
   "source": [
    "URL"
   ]
  },
  {
   "cell_type": "code",
   "execution_count": null,
   "id": "f1a24591-ea53-47c6-b525-51b60c67323e",
   "metadata": {},
   "outputs": [],
   "source": [
    "url = \"https://es.wikipedia.org/wiki/Planetas_del_sistema_solar\""
   ]
  },
  {
   "cell_type": "markdown",
   "id": "f177ca3e-7a44-409a-9674-4471e45097b7",
   "metadata": {},
   "source": [
    "HTML"
   ]
  },
  {
   "cell_type": "code",
   "execution_count": null,
   "id": "55dad254-a92f-41cb-b45c-61864f788a02",
   "metadata": {},
   "outputs": [],
   "source": [
    "response = requests.get(url)\n",
    "soup = BeautifulSoup(response.content, 'lxml')"
   ]
  },
  {
   "cell_type": "markdown",
   "id": "f2ca8216-0c2b-4864-bae6-c3c61cdd96ed",
   "metadata": {},
   "source": [
    "Tablas del Artículo"
   ]
  },
  {
   "cell_type": "code",
   "execution_count": null,
   "id": "995890e2-3809-4fa4-bc5d-7c2d09d357e0",
   "metadata": {},
   "outputs": [],
   "source": [
    "tablas = soup.find_all('table', {'class': 'wikitable'})"
   ]
  },
  {
   "cell_type": "markdown",
   "id": "273aa701-362d-4138-a207-fcc43d4bb0f8",
   "metadata": {},
   "source": [
    "Guardar Resultados"
   ]
  },
  {
   "cell_type": "code",
   "execution_count": null,
   "id": "45de6b44-af1e-4a18-991c-4358dd545501",
   "metadata": {},
   "outputs": [],
   "source": [
    "planetas_enanos = []"
   ]
  },
  {
   "cell_type": "markdown",
   "id": "9373772f-c27f-476d-91de-1ef418f898e2",
   "metadata": {},
   "source": [
    "Buscar Tabla de los planetas"
   ]
  },
  {
   "cell_type": "code",
   "execution_count": null,
   "id": "23df444b-f58f-4382-8bfc-55932f3c064b",
   "metadata": {},
   "outputs": [],
   "source": [
    "for tabla in tablas:\n",
    "    filas = tabla.find_all('tr')\n",
    "    encabezados = [th.text.strip().lower() for th in filas[0].find_all('th')]\n",
    "    if \"planeta\" in encabezados and \"satélites naturales\" in encabezados:\n",
    "        for fila in filas[1:]:\n",
    "            columnas = fila.find_all(['td', 'th'])\n",
    "            if len(columnas) >= 2:\n",
    "                planeta = columnas[0].text.strip()\n",
    "                satelites = columnas[1].text.strip()\n",
    "                planetas_enanos.append((planeta, satelites))"
   ]
  },
  {
   "cell_type": "markdown",
   "id": "b9c0af89-a940-45b5-98df-bdfb3780c028",
   "metadata": {},
   "source": [
    "Mostrar Resultados"
   ]
  },
  {
   "cell_type": "code",
   "execution_count": null,
   "id": "4fae4285-f159-49f3-b2f1-9d77c1cf1166",
   "metadata": {},
   "outputs": [],
   "source": [
    "for nombre, cantidad in planetas_enanos:\n",
    "    print(f\"🪐 {nombre}: {cantidad} satélites naturales\")\n",
    "\n",
    "df = pd.DataFrame(planetas_enanos, columns=[\"Planeta Enano\", \"Satélites Naturales\"])\n",
    "df\n"
   ]
  }
 ],
 "metadata": {
  "kernelspec": {
   "display_name": "Python 3 (ipykernel)",
   "language": "python",
   "name": "python3"
  },
  "language_info": {
   "codemirror_mode": {
    "name": "ipython",
    "version": 3
   },
   "file_extension": ".py",
   "mimetype": "text/x-python",
   "name": "python",
   "nbconvert_exporter": "python",
   "pygments_lexer": "ipython3",
   "version": "3.10.6"
  }
 },
 "nbformat": 4,
 "nbformat_minor": 5
}
